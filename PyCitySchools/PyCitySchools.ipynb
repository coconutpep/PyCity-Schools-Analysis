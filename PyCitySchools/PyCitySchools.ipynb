{
 "nbformat": 4,
 "nbformat_minor": 2,
 "metadata": {
  "language_info": {
   "name": "python",
   "codemirror_mode": {
    "name": "ipython",
    "version": 3
   },
   "version": "3.7.6-final"
  },
  "orig_nbformat": 2,
  "file_extension": ".py",
  "mimetype": "text/x-python",
  "name": "python",
  "npconvert_exporter": "python",
  "pygments_lexer": "ipython3",
  "version": 3,
  "kernelspec": {
   "name": "python37664bitpythondataconda55388edc13a34f868137f8315f2e1c1f",
   "display_name": "Python 3.7.6 64-bit ('PythonData': conda)"
  }
 },
 "cells": [
  {
   "cell_type": "code",
   "execution_count": 2,
   "metadata": {},
   "outputs": [
    {
     "data": {
      "text/html": "<div>\n<style scoped>\n    .dataframe tbody tr th:only-of-type {\n        vertical-align: middle;\n    }\n\n    .dataframe tbody tr th {\n        vertical-align: top;\n    }\n\n    .dataframe thead th {\n        text-align: right;\n    }\n</style>\n<table border=\"1\" class=\"dataframe\">\n  <thead>\n    <tr style=\"text-align: right;\">\n      <th></th>\n      <th>Student ID</th>\n      <th>Student Name</th>\n      <th>Gender</th>\n      <th>Grade</th>\n      <th>School</th>\n      <th>Reading Score</th>\n      <th>Math Score</th>\n      <th>School ID</th>\n      <th>Type</th>\n      <th>size</th>\n      <th>Budget</th>\n    </tr>\n  </thead>\n  <tbody>\n    <tr>\n      <th>0</th>\n      <td>0</td>\n      <td>Paul Bradley</td>\n      <td>M</td>\n      <td>9th</td>\n      <td>Huang High School</td>\n      <td>66</td>\n      <td>79</td>\n      <td>0</td>\n      <td>District</td>\n      <td>2917</td>\n      <td>1910635</td>\n    </tr>\n    <tr>\n      <th>1</th>\n      <td>1</td>\n      <td>Victor Smith</td>\n      <td>M</td>\n      <td>12th</td>\n      <td>Huang High School</td>\n      <td>94</td>\n      <td>61</td>\n      <td>0</td>\n      <td>District</td>\n      <td>2917</td>\n      <td>1910635</td>\n    </tr>\n    <tr>\n      <th>2</th>\n      <td>2</td>\n      <td>Kevin Rodriguez</td>\n      <td>M</td>\n      <td>12th</td>\n      <td>Huang High School</td>\n      <td>90</td>\n      <td>60</td>\n      <td>0</td>\n      <td>District</td>\n      <td>2917</td>\n      <td>1910635</td>\n    </tr>\n    <tr>\n      <th>3</th>\n      <td>3</td>\n      <td>Dr. Richard Scott</td>\n      <td>M</td>\n      <td>12th</td>\n      <td>Huang High School</td>\n      <td>67</td>\n      <td>58</td>\n      <td>0</td>\n      <td>District</td>\n      <td>2917</td>\n      <td>1910635</td>\n    </tr>\n    <tr>\n      <th>4</th>\n      <td>4</td>\n      <td>Bonnie Ray</td>\n      <td>F</td>\n      <td>9th</td>\n      <td>Huang High School</td>\n      <td>97</td>\n      <td>84</td>\n      <td>0</td>\n      <td>District</td>\n      <td>2917</td>\n      <td>1910635</td>\n    </tr>\n  </tbody>\n</table>\n</div>",
      "text/plain": "   Student ID       Student Name Gender Grade             School  \\\n0           0       Paul Bradley      M   9th  Huang High School   \n1           1       Victor Smith      M  12th  Huang High School   \n2           2    Kevin Rodriguez      M  12th  Huang High School   \n3           3  Dr. Richard Scott      M  12th  Huang High School   \n4           4         Bonnie Ray      F   9th  Huang High School   \n\n   Reading Score  Math Score  School ID      Type  size   Budget  \n0             66          79          0  District  2917  1910635  \n1             94          61          0  District  2917  1910635  \n2             90          60          0  District  2917  1910635  \n3             67          58          0  District  2917  1910635  \n4             97          84          0  District  2917  1910635  "
     },
     "execution_count": 2,
     "metadata": {},
     "output_type": "execute_result"
    }
   ],
   "source": [
    "# Dependencies and Setup\n",
    "import pandas as pd\n",
    "\n",
    "school_data_to_load = \"Resources/schools_complete.csv\"\n",
    "student_data_to_load = \"Resources/students_complete.csv\"\n",
    "\n",
    "school_data = pd.read_csv(school_data_to_load)\n",
    "student_data = pd.read_csv(student_data_to_load)\n",
    "\n",
    "school_data_complete = pd.merge(student_data, school_data, how=\"left\", on=[\"school_name\", \"school_name\"])\n",
    "school_data_complete_rename = school_data_complete.rename(columns={\"student_name\":\"Student Name\", \"gender\":\"Gender\", \"grade\":\"Grade\", \"school_name\":\"School\", \"reading_score\":\"Reading Score\", \"math_score\":\"Math Score\", \"budget\":\"Budget\", \"type\":\"Type\"})\n",
    "\n",
    "school_data_complete_rename.head()"
   ]
  },
  {
   "cell_type": "code",
   "execution_count": 3,
   "metadata": {},
   "outputs": [
    {
     "data": {
      "text/html": "<div>\n<style scoped>\n    .dataframe tbody tr th:only-of-type {\n        vertical-align: middle;\n    }\n\n    .dataframe tbody tr th {\n        vertical-align: top;\n    }\n\n    .dataframe thead th {\n        text-align: right;\n    }\n</style>\n<table border=\"1\" class=\"dataframe\">\n  <thead>\n    <tr style=\"text-align: right;\">\n      <th></th>\n      <th>Total Number Schools</th>\n      <th>Total Number Students</th>\n      <th>Average Reading Score</th>\n      <th>Reading Pass Rate</th>\n      <th>Average Math Score</th>\n      <th>Math Pass Rate</th>\n      <th>Overall Pass Rate</th>\n      <th>Total Budget</th>\n    </tr>\n  </thead>\n  <tbody>\n    <tr>\n      <th>0</th>\n      <td>15</td>\n      <td>39,170</td>\n      <td>81.88</td>\n      <td>85.81%</td>\n      <td>78.99</td>\n      <td>74.98%</td>\n      <td>80.43%</td>\n      <td>$24,649,428.00</td>\n    </tr>\n  </tbody>\n</table>\n</div>",
      "text/plain": "   Total Number Schools Total Number Students Average Reading Score  \\\n0                    15                39,170                 81.88   \n\n  Reading Pass Rate Average Math Score Math Pass Rate Overall Pass Rate  \\\n0            85.81%              78.99         74.98%            80.43%   \n\n     Total Budget  \n0  $24,649,428.00  "
     },
     "execution_count": 3,
     "metadata": {},
     "output_type": "execute_result"
    }
   ],
   "source": [
    "#District Summary\n",
    "\n",
    "#Total Schools\n",
    "schools_unique = school_data_complete_rename[\"School\"].unique()\n",
    "total_schools = len(schools_unique)\n",
    "\n",
    "#Total Students\n",
    "total_students = len(school_data_complete_rename[\"Student ID\"])\n",
    "\n",
    "#Total Budget\n",
    "budgets = school_data_complete_rename[\"Budget\"].unique()\n",
    "total_budget = budgets.sum()\n",
    "\n",
    "#Average Math Score\n",
    "average_math_score = school_data_complete_rename[\"Math Score\"].mean()\n",
    "\n",
    "#Average Reading Score\n",
    "average_reading_score = school_data_complete_rename[\"Reading Score\"].mean()\n",
    "\n",
    "#Overall Pass Rate (Overall Average Score)\n",
    "overall_pass_rate = float((average_reading_score + average_math_score)) / 2\n",
    "\n",
    "#Percent students passing math\n",
    "pass_total_m = 0\n",
    "for score in school_data_complete_rename[\"Math Score\"]:\n",
    "    if score >= 70:\n",
    "        pass_total_m += 1\n",
    "percent_pass_m = float((pass_total_m) / len(school_data_complete_rename[\"Math Score\"])) * 100\n",
    "\n",
    "#Percent students passing reading\n",
    "pass_total_r = 0\n",
    "for score in school_data_complete_rename[\"Reading Score\"]:\n",
    "    if score >= 70:\n",
    "        pass_total_r += 1\n",
    "percent_pass_r = float((pass_total_r) / len(school_data_complete_rename[\"Reading Score\"])) * 100\n",
    "\n",
    "#Put data in a dataframe\n",
    "data_summary_df = pd.DataFrame({\"Total Number Schools\":[total_schools], \"Total Number Students\":[total_students], \"Average Reading Score\":[average_reading_score], \"Reading Pass Rate\":[percent_pass_r], \"Average Math Score\":[average_math_score], \"Math Pass Rate\":[percent_pass_m], \"Overall Pass Rate\":[overall_pass_rate], \"Total Budget\":[total_budget]})\n",
    "\n",
    "#Formatting Data\n",
    "data_summary_df[\"Total Number Students\"] = data_summary_df[\"Total Number Students\"].map(\"{:,}\".format)\n",
    "data_summary_df[\"Average Reading Score\"] = data_summary_df[\"Average Reading Score\"].map(\"{:.2f}\".format)\n",
    "data_summary_df[\"Reading Pass Rate\"] = data_summary_df[\"Reading Pass Rate\"].map(\"{:.2f}%\".format)\n",
    "data_summary_df[\"Average Math Score\"] = data_summary_df[\"Average Math Score\"].map(\"{:.2f}\".format)\n",
    "data_summary_df[\"Math Pass Rate\"] = data_summary_df[\"Math Pass Rate\"].map(\"{:.2f}%\".format)\n",
    "data_summary_df[\"Overall Pass Rate\"] = data_summary_df[\"Overall Pass Rate\"].map(\"{:.2f}%\".format)\n",
    "data_summary_df[\"Total Budget\"] = data_summary_df[\"Total Budget\"].map(\"${:,.2f}\".format)\n",
    "data_summary_df.head()"
   ]
  },
  {
   "cell_type": "code",
   "execution_count": 4,
   "metadata": {},
   "outputs": [
    {
     "data": {
      "text/html": "<div>\n<style scoped>\n    .dataframe tbody tr th:only-of-type {\n        vertical-align: middle;\n    }\n\n    .dataframe tbody tr th {\n        vertical-align: top;\n    }\n\n    .dataframe thead th {\n        text-align: right;\n    }\n</style>\n<table border=\"1\" class=\"dataframe\">\n  <thead>\n    <tr style=\"text-align: right;\">\n      <th></th>\n      <th>Type</th>\n      <th>Number of Students</th>\n      <th>Budget</th>\n      <th>Budget Per Student</th>\n      <th>Average Math Score</th>\n      <th>Average Reading Score</th>\n      <th>Math Percent Pass</th>\n      <th>Reading Percent Pass</th>\n      <th>Overall Pass Rate</th>\n    </tr>\n    <tr>\n      <th>School</th>\n      <th></th>\n      <th></th>\n      <th></th>\n      <th></th>\n      <th></th>\n      <th></th>\n      <th></th>\n      <th></th>\n      <th></th>\n    </tr>\n  </thead>\n  <tbody>\n    <tr>\n      <th>Bailey High School</th>\n      <td>District</td>\n      <td>4,976</td>\n      <td>$1,910,635.00</td>\n      <td>$383.97</td>\n      <td>77.05</td>\n      <td>81.03</td>\n      <td>66.68%</td>\n      <td>81.93%</td>\n      <td>74.31%</td>\n    </tr>\n    <tr>\n      <th>Cabrera High School</th>\n      <td>Charter</td>\n      <td>1,858</td>\n      <td>$1,884,411.00</td>\n      <td>$1,014.21</td>\n      <td>83.06</td>\n      <td>83.98</td>\n      <td>94.13%</td>\n      <td>97.04%</td>\n      <td>95.59%</td>\n    </tr>\n    <tr>\n      <th>Figueroa High School</th>\n      <td>District</td>\n      <td>2,949</td>\n      <td>$1,056,600.00</td>\n      <td>$358.29</td>\n      <td>76.71</td>\n      <td>81.16</td>\n      <td>65.99%</td>\n      <td>80.74%</td>\n      <td>73.36%</td>\n    </tr>\n    <tr>\n      <th>Ford High School</th>\n      <td>District</td>\n      <td>2,739</td>\n      <td>$3,022,020.00</td>\n      <td>$1,103.33</td>\n      <td>77.10</td>\n      <td>80.75</td>\n      <td>68.31%</td>\n      <td>79.30%</td>\n      <td>73.80%</td>\n    </tr>\n    <tr>\n      <th>Griffin High School</th>\n      <td>Charter</td>\n      <td>1,468</td>\n      <td>$917,500.00</td>\n      <td>$625.00</td>\n      <td>83.35</td>\n      <td>83.82</td>\n      <td>93.39%</td>\n      <td>97.14%</td>\n      <td>95.27%</td>\n    </tr>\n  </tbody>\n</table>\n</div>",
      "text/plain": "                          Type Number of Students         Budget  \\\nSchool                                                             \nBailey High School    District              4,976  $1,910,635.00   \nCabrera High School    Charter              1,858  $1,884,411.00   \nFigueroa High School  District              2,949  $1,056,600.00   \nFord High School      District              2,739  $3,022,020.00   \nGriffin High School    Charter              1,468    $917,500.00   \n\n                     Budget Per Student Average Math Score  \\\nSchool                                                       \nBailey High School              $383.97              77.05   \nCabrera High School           $1,014.21              83.06   \nFigueroa High School            $358.29              76.71   \nFord High School              $1,103.33              77.10   \nGriffin High School             $625.00              83.35   \n\n                     Average Reading Score Math Percent Pass  \\\nSchool                                                         \nBailey High School                   81.03            66.68%   \nCabrera High School                  83.98            94.13%   \nFigueroa High School                 81.16            65.99%   \nFord High School                     80.75            68.31%   \nGriffin High School                  83.82            93.39%   \n\n                     Reading Percent Pass Overall Pass Rate  \nSchool                                                       \nBailey High School                 81.93%            74.31%  \nCabrera High School                97.04%            95.59%  \nFigueroa High School               80.74%            73.36%  \nFord High School                   79.30%            73.80%  \nGriffin High School                97.14%            95.27%  "
     },
     "execution_count": 4,
     "metadata": {},
     "output_type": "execute_result"
    }
   ],
   "source": [
    "#School Summary\n",
    "\n",
    "#Group data by school\n",
    "data_by_school = school_data_complete_rename.groupby(\"School\")\n",
    "\n",
    "#School type\n",
    "school_type = data_by_school[\"Type\"].unique()\n",
    "data_by_school_df = pd.DataFrame({\"Type\":school_type})\n",
    "data_by_school_df.loc[[\"Bailey High School\", \"Figueroa High School\", \"Ford High School\", \"Hernandez High School\", \"Huang High School\", \"Johnson High School\", \"Rodriguez High School\"], \"Type\"] = \"District\"\n",
    "#Number of students\n",
    "data_by_school_df[\"Number of Students\"] = data_by_school[\"Student ID\"].count().map(\"{:,}\".format)\n",
    "#School Summary\n",
    "\n",
    "#Group data by school\n",
    "data_by_school = school_data_complete_rename.groupby(\"School\")\n",
    "\n",
    "#School type\n",
    "school_type = data_by_school[\"Type\"].unique()\n",
    "data_by_school_df = pd.DataFrame({\"Type\":school_type})\n",
    "data_by_school_df.loc[[\"Bailey High School\", \"Figueroa High School\", \"Ford High School\", \"Hernandez High School\", \"Huang High School\", \"Johnson High School\", \"Rodriguez High School\"], \"Type\"] = \"District\"\n",
    "data_by_school_df.loc[[\"Cabrera High School\", \"Griffin High School\", \"Holden High School\", \"Pena High School\", \"Shelton High School\", \"Thomas High School\", \"Wilson High School\", \"Wright High School\"], \"Type\"] = \"Charter\"\n",
    "\n",
    "#Number of Students per School\n",
    "data_by_school_df[\"Number of Students\"] = data_by_school[\"Student ID\"].count()\n",
    "\n",
    "#School Budget\n",
    "data_by_school_df[\"Budget\"] = budgets\n",
    "data_by_school_df[\"Budget\"] = data_by_school_df[\"Budget\"]\n",
    "\n",
    "#Budget Per Student\n",
    "data_by_school_df[\"Budget Per Student\"] = (data_by_school_df[\"Budget\"] / data_by_school_df[\"Number of Students\"]).map(\"${:,.2f}\".format)\n",
    "\n",
    "#Formating Number of Students and Budget\n",
    "data_by_school_df[\"Number of Students\"] = data_by_school_df[\"Number of Students\"].map(\"{:,}\".format)\n",
    "data_by_school_df[\"Budget\"] = data_by_school_df[\"Budget\"].map(\"${:,.2f}\".format)\n",
    "\n",
    "#Average Math Score\n",
    "data_by_school_df[\"Average Math Score\"] = (data_by_school[\"Math Score\"].sum() / data_by_school[\"Math Score\"].count()).map(\"{:.2f}\".format)\n",
    "\n",
    "#Average Reading Score\n",
    "data_by_school_df[\"Average Reading Score\"] = (data_by_school[\"Reading Score\"].sum() / data_by_school[\"Reading Score\"].count()).map(\"{:.2f}\".format)\n",
    "\n",
    "#Math Pass Rate\n",
    "data_by_school_df[\"Math Percent Pass\"] = ((data_by_school[\"Math Score\"].apply(lambda x: (x>=70).sum()) / data_by_school[\"Math Score\"].count()) * 100)\n",
    "\n",
    "#Reading Pass Rate\n",
    "data_by_school_df[\"Reading Percent Pass\"] = ((data_by_school[\"Reading Score\"].apply(lambda x: (x>=70).sum()) / data_by_school[\"Reading Score\"].count()) * 100)\n",
    "\n",
    "#Overall Pass Rate\n",
    "data_by_school_df[\"Overall Pass Rate\"] = ((data_by_school_df[\"Math Percent Pass\"] + data_by_school_df[\"Reading Percent Pass\"]) / 2).map(\"{:.2f}%\".format)\n",
    "data_by_school_df[\"Math Percent Pass\"] = data_by_school_df[\"Math Percent Pass\"].map(\"{:.2f}%\".format)\n",
    "data_by_school_df[\"Reading Percent Pass\"] = data_by_school_df[\"Reading Percent Pass\"].map(\"{:.2f}%\".format)\n",
    "data_by_school_df.head()"
   ]
  },
  {
   "cell_type": "code",
   "execution_count": 9,
   "metadata": {},
   "outputs": [
    {
     "data": {
      "text/html": "<div>\n<style scoped>\n    .dataframe tbody tr th:only-of-type {\n        vertical-align: middle;\n    }\n\n    .dataframe tbody tr th {\n        vertical-align: top;\n    }\n\n    .dataframe thead th {\n        text-align: right;\n    }\n</style>\n<table border=\"1\" class=\"dataframe\">\n  <thead>\n    <tr style=\"text-align: right;\">\n      <th></th>\n      <th>Type</th>\n      <th>Number of Students</th>\n      <th>Budget</th>\n      <th>Budget Per Student</th>\n      <th>Average Math Score</th>\n      <th>Average Reading Score</th>\n      <th>Math Percent Pass</th>\n      <th>Reading Percent Pass</th>\n      <th>Overall Pass Rate</th>\n    </tr>\n    <tr>\n      <th>School</th>\n      <th></th>\n      <th></th>\n      <th></th>\n      <th></th>\n      <th></th>\n      <th></th>\n      <th></th>\n      <th></th>\n      <th></th>\n    </tr>\n  </thead>\n  <tbody>\n    <tr>\n      <th>Cabrera High School</th>\n      <td>Charter</td>\n      <td>1,858</td>\n      <td>$1,884,411.00</td>\n      <td>$1,014.21</td>\n      <td>83.06</td>\n      <td>83.98</td>\n      <td>94.13%</td>\n      <td>97.04%</td>\n      <td>95.59%</td>\n    </tr>\n    <tr>\n      <th>Thomas High School</th>\n      <td>Charter</td>\n      <td>1,635</td>\n      <td>$3,094,650.00</td>\n      <td>$1,892.75</td>\n      <td>83.42</td>\n      <td>83.85</td>\n      <td>93.27%</td>\n      <td>97.31%</td>\n      <td>95.29%</td>\n    </tr>\n    <tr>\n      <th>Griffin High School</th>\n      <td>Charter</td>\n      <td>1,468</td>\n      <td>$917,500.00</td>\n      <td>$625.00</td>\n      <td>83.35</td>\n      <td>83.82</td>\n      <td>93.39%</td>\n      <td>97.14%</td>\n      <td>95.27%</td>\n    </tr>\n    <tr>\n      <th>Pena High School</th>\n      <td>Charter</td>\n      <td>962</td>\n      <td>$585,858.00</td>\n      <td>$609.00</td>\n      <td>83.84</td>\n      <td>84.04</td>\n      <td>94.59%</td>\n      <td>95.95%</td>\n      <td>95.27%</td>\n    </tr>\n    <tr>\n      <th>Wilson High School</th>\n      <td>Charter</td>\n      <td>2,283</td>\n      <td>$1,763,916.00</td>\n      <td>$772.63</td>\n      <td>83.27</td>\n      <td>83.99</td>\n      <td>93.87%</td>\n      <td>96.54%</td>\n      <td>95.20%</td>\n    </tr>\n  </tbody>\n</table>\n</div>",
      "text/plain": "                        Type Number of Students         Budget  \\\nSchool                                                           \nCabrera High School  Charter              1,858  $1,884,411.00   \nThomas High School   Charter              1,635  $3,094,650.00   \nGriffin High School  Charter              1,468    $917,500.00   \nPena High School     Charter                962    $585,858.00   \nWilson High School   Charter              2,283  $1,763,916.00   \n\n                    Budget Per Student Average Math Score  \\\nSchool                                                      \nCabrera High School          $1,014.21              83.06   \nThomas High School           $1,892.75              83.42   \nGriffin High School            $625.00              83.35   \nPena High School               $609.00              83.84   \nWilson High School             $772.63              83.27   \n\n                    Average Reading Score Math Percent Pass  \\\nSchool                                                        \nCabrera High School                 83.98            94.13%   \nThomas High School                  83.85            93.27%   \nGriffin High School                 83.82            93.39%   \nPena High School                    84.04            94.59%   \nWilson High School                  83.99            93.87%   \n\n                    Reading Percent Pass Overall Pass Rate  \nSchool                                                      \nCabrera High School               97.04%            95.59%  \nThomas High School                97.31%            95.29%  \nGriffin High School               97.14%            95.27%  \nPena High School                  95.95%            95.27%  \nWilson High School                96.54%            95.20%  "
     },
     "execution_count": 9,
     "metadata": {},
     "output_type": "execute_result"
    }
   ],
   "source": [
    "#Top Performing Schools\n",
    "top_schools = data_by_school_df.sort_values(\"Overall Pass Rate\", ascending=False)\n",
    "top_schools.head()"
   ]
  },
  {
   "cell_type": "code",
   "execution_count": 10,
   "metadata": {},
   "outputs": [
    {
     "data": {
      "text/html": "<div>\n<style scoped>\n    .dataframe tbody tr th:only-of-type {\n        vertical-align: middle;\n    }\n\n    .dataframe tbody tr th {\n        vertical-align: top;\n    }\n\n    .dataframe thead th {\n        text-align: right;\n    }\n</style>\n<table border=\"1\" class=\"dataframe\">\n  <thead>\n    <tr style=\"text-align: right;\">\n      <th></th>\n      <th>Type</th>\n      <th>Number of Students</th>\n      <th>Budget</th>\n      <th>Budget Per Student</th>\n      <th>Average Math Score</th>\n      <th>Average Reading Score</th>\n      <th>Math Percent Pass</th>\n      <th>Reading Percent Pass</th>\n      <th>Overall Pass Rate</th>\n    </tr>\n    <tr>\n      <th>School</th>\n      <th></th>\n      <th></th>\n      <th></th>\n      <th></th>\n      <th></th>\n      <th></th>\n      <th></th>\n      <th></th>\n      <th></th>\n    </tr>\n  </thead>\n  <tbody>\n    <tr>\n      <th>Ford High School</th>\n      <td>District</td>\n      <td>2,739</td>\n      <td>$3,022,020.00</td>\n      <td>$1,103.33</td>\n      <td>77.10</td>\n      <td>80.75</td>\n      <td>68.31%</td>\n      <td>79.30%</td>\n      <td>73.80%</td>\n    </tr>\n    <tr>\n      <th>Johnson High School</th>\n      <td>District</td>\n      <td>4,761</td>\n      <td>$248,087.00</td>\n      <td>$52.11</td>\n      <td>77.07</td>\n      <td>80.97</td>\n      <td>66.06%</td>\n      <td>81.22%</td>\n      <td>73.64%</td>\n    </tr>\n    <tr>\n      <th>Huang High School</th>\n      <td>District</td>\n      <td>2,917</td>\n      <td>$3,124,928.00</td>\n      <td>$1,071.28</td>\n      <td>76.63</td>\n      <td>81.18</td>\n      <td>65.68%</td>\n      <td>81.32%</td>\n      <td>73.50%</td>\n    </tr>\n    <tr>\n      <th>Figueroa High School</th>\n      <td>District</td>\n      <td>2,949</td>\n      <td>$1,056,600.00</td>\n      <td>$358.29</td>\n      <td>76.71</td>\n      <td>81.16</td>\n      <td>65.99%</td>\n      <td>80.74%</td>\n      <td>73.36%</td>\n    </tr>\n    <tr>\n      <th>Rodriguez High School</th>\n      <td>District</td>\n      <td>3,999</td>\n      <td>$1,049,400.00</td>\n      <td>$262.42</td>\n      <td>76.84</td>\n      <td>80.74</td>\n      <td>66.37%</td>\n      <td>80.22%</td>\n      <td>73.29%</td>\n    </tr>\n  </tbody>\n</table>\n</div>",
      "text/plain": "                           Type Number of Students         Budget  \\\nSchool                                                              \nFord High School       District              2,739  $3,022,020.00   \nJohnson High School    District              4,761    $248,087.00   \nHuang High School      District              2,917  $3,124,928.00   \nFigueroa High School   District              2,949  $1,056,600.00   \nRodriguez High School  District              3,999  $1,049,400.00   \n\n                      Budget Per Student Average Math Score  \\\nSchool                                                        \nFord High School               $1,103.33              77.10   \nJohnson High School               $52.11              77.07   \nHuang High School              $1,071.28              76.63   \nFigueroa High School             $358.29              76.71   \nRodriguez High School            $262.42              76.84   \n\n                      Average Reading Score Math Percent Pass  \\\nSchool                                                          \nFord High School                      80.75            68.31%   \nJohnson High School                   80.97            66.06%   \nHuang High School                     81.18            65.68%   \nFigueroa High School                  81.16            65.99%   \nRodriguez High School                 80.74            66.37%   \n\n                      Reading Percent Pass Overall Pass Rate  \nSchool                                                        \nFord High School                    79.30%            73.80%  \nJohnson High School                 81.22%            73.64%  \nHuang High School                   81.32%            73.50%  \nFigueroa High School                80.74%            73.36%  \nRodriguez High School               80.22%            73.29%  "
     },
     "execution_count": 10,
     "metadata": {},
     "output_type": "execute_result"
    }
   ],
   "source": [
    "#Bottom Performing Schools\n",
    "top_schools.tail()"
   ]
  },
  {
   "cell_type": "code",
   "execution_count": null,
   "metadata": {},
   "outputs": [],
   "source": []
  }
 ]
}