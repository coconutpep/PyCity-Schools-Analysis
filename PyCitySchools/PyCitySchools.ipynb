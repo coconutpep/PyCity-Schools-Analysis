{
 "nbformat": 4,
 "nbformat_minor": 2,
 "metadata": {
  "language_info": {
   "name": "python",
   "codemirror_mode": {
    "name": "ipython",
    "version": 3
   },
   "version": "3.7.6-final"
  },
  "orig_nbformat": 2,
  "file_extension": ".py",
  "mimetype": "text/x-python",
  "name": "python",
  "npconvert_exporter": "python",
  "pygments_lexer": "ipython3",
  "version": 3,
  "kernelspec": {
   "name": "python37664bitpythondataconda55388edc13a34f868137f8315f2e1c1f",
   "display_name": "Python 3.7.6 64-bit ('PythonData': conda)"
  }
 },
 "cells": [
  {
   "cell_type": "code",
   "execution_count": 51,
   "metadata": {},
   "outputs": [
    {
     "data": {
      "text/html": "<div>\n<style scoped>\n    .dataframe tbody tr th:only-of-type {\n        vertical-align: middle;\n    }\n\n    .dataframe tbody tr th {\n        vertical-align: top;\n    }\n\n    .dataframe thead th {\n        text-align: right;\n    }\n</style>\n<table border=\"1\" class=\"dataframe\">\n  <thead>\n    <tr style=\"text-align: right;\">\n      <th></th>\n      <th>Student ID</th>\n      <th>Student Name</th>\n      <th>Gender</th>\n      <th>Grade</th>\n      <th>School</th>\n      <th>Reading Score</th>\n      <th>Math Score</th>\n      <th>School ID</th>\n      <th>Type</th>\n      <th>size</th>\n      <th>Budget</th>\n    </tr>\n  </thead>\n  <tbody>\n    <tr>\n      <th>0</th>\n      <td>0</td>\n      <td>Paul Bradley</td>\n      <td>M</td>\n      <td>9th</td>\n      <td>Huang High School</td>\n      <td>66</td>\n      <td>79</td>\n      <td>0</td>\n      <td>District</td>\n      <td>2917</td>\n      <td>1910635</td>\n    </tr>\n    <tr>\n      <th>1</th>\n      <td>1</td>\n      <td>Victor Smith</td>\n      <td>M</td>\n      <td>12th</td>\n      <td>Huang High School</td>\n      <td>94</td>\n      <td>61</td>\n      <td>0</td>\n      <td>District</td>\n      <td>2917</td>\n      <td>1910635</td>\n    </tr>\n    <tr>\n      <th>2</th>\n      <td>2</td>\n      <td>Kevin Rodriguez</td>\n      <td>M</td>\n      <td>12th</td>\n      <td>Huang High School</td>\n      <td>90</td>\n      <td>60</td>\n      <td>0</td>\n      <td>District</td>\n      <td>2917</td>\n      <td>1910635</td>\n    </tr>\n    <tr>\n      <th>3</th>\n      <td>3</td>\n      <td>Dr. Richard Scott</td>\n      <td>M</td>\n      <td>12th</td>\n      <td>Huang High School</td>\n      <td>67</td>\n      <td>58</td>\n      <td>0</td>\n      <td>District</td>\n      <td>2917</td>\n      <td>1910635</td>\n    </tr>\n    <tr>\n      <th>4</th>\n      <td>4</td>\n      <td>Bonnie Ray</td>\n      <td>F</td>\n      <td>9th</td>\n      <td>Huang High School</td>\n      <td>97</td>\n      <td>84</td>\n      <td>0</td>\n      <td>District</td>\n      <td>2917</td>\n      <td>1910635</td>\n    </tr>\n  </tbody>\n</table>\n</div>",
      "text/plain": "   Student ID       Student Name Gender Grade             School  \\\n0           0       Paul Bradley      M   9th  Huang High School   \n1           1       Victor Smith      M  12th  Huang High School   \n2           2    Kevin Rodriguez      M  12th  Huang High School   \n3           3  Dr. Richard Scott      M  12th  Huang High School   \n4           4         Bonnie Ray      F   9th  Huang High School   \n\n   Reading Score  Math Score  School ID      Type  size   Budget  \n0             66          79          0  District  2917  1910635  \n1             94          61          0  District  2917  1910635  \n2             90          60          0  District  2917  1910635  \n3             67          58          0  District  2917  1910635  \n4             97          84          0  District  2917  1910635  "
     },
     "execution_count": 51,
     "metadata": {},
     "output_type": "execute_result"
    }
   ],
   "source": [
    "# Dependencies and Setup\n",
    "import pandas as pd\n",
    "\n",
    "school_data_to_load = \"Resources/schools_complete.csv\"\n",
    "student_data_to_load = \"Resources/students_complete.csv\"\n",
    "\n",
    "school_data = pd.read_csv(school_data_to_load)\n",
    "student_data = pd.read_csv(student_data_to_load)\n",
    "\n",
    "school_data_complete = pd.merge(student_data, school_data, how=\"left\", on=[\"school_name\", \"school_name\"])\n",
    "school_data_complete_rename = school_data_complete.rename(columns={\"student_name\":\"Student Name\", \"gender\":\"Gender\", \"grade\":\"Grade\", \"school_name\":\"School\", \"reading_score\":\"Reading Score\", \"math_score\":\"Math Score\", \"budget\":\"Budget\", \"type\":\"Type\"})\n",
    "\n",
    "school_data_complete_rename.head()"
   ]
  },
  {
   "cell_type": "code",
   "execution_count": 52,
   "metadata": {},
   "outputs": [
    {
     "data": {
      "text/html": "<div>\n<style scoped>\n    .dataframe tbody tr th:only-of-type {\n        vertical-align: middle;\n    }\n\n    .dataframe tbody tr th {\n        vertical-align: top;\n    }\n\n    .dataframe thead th {\n        text-align: right;\n    }\n</style>\n<table border=\"1\" class=\"dataframe\">\n  <thead>\n    <tr style=\"text-align: right;\">\n      <th></th>\n      <th>Total Number Schools</th>\n      <th>Total Number Students</th>\n      <th>Average Reading Score</th>\n      <th>Reading Pass Rate</th>\n      <th>Average Math Score</th>\n      <th>Math Pass Rate</th>\n      <th>Overall Pass Rate</th>\n      <th>Total Budget</th>\n    </tr>\n  </thead>\n  <tbody>\n    <tr>\n      <th>0</th>\n      <td>15</td>\n      <td>39,170</td>\n      <td>81.88</td>\n      <td>85.81%</td>\n      <td>78.99</td>\n      <td>74.98%</td>\n      <td>80.43%</td>\n      <td>$82,932,329,558.00</td>\n    </tr>\n  </tbody>\n</table>\n</div>",
      "text/plain": "   Total Number Schools Total Number Students Average Reading Score  \\\n0                    15                39,170                 81.88   \n\n  Reading Pass Rate Average Math Score Math Pass Rate Overall Pass Rate  \\\n0            85.81%              78.99         74.98%            80.43%   \n\n         Total Budget  \n0  $82,932,329,558.00  "
     },
     "execution_count": 52,
     "metadata": {},
     "output_type": "execute_result"
    }
   ],
   "source": [
    "#District Summary\n",
    "\n",
    "#Total Schools\n",
    "schools_unique = school_data_complete_rename[\"School\"].unique()\n",
    "total_schools = len(schools_unique)\n",
    "\n",
    "#Total Students\n",
    "total_students = len(school_data_complete_rename[\"Student ID\"])\n",
    "\n",
    "#Total Budget\n",
    "total_budget = school_data_complete_rename[\"Budget\"].sum()\n",
    "\n",
    "#Average Math Score\n",
    "average_math_score = school_data_complete_rename[\"Math Score\"].mean()\n",
    "\n",
    "#Average Reading Score\n",
    "average_reading_score = school_data_complete_rename[\"Reading Score\"].mean()\n",
    "\n",
    "#Overall Pass Rate (Overall Average Score)\n",
    "overall_pass_rate = float((average_reading_score + average_math_score)) / 2\n",
    "\n",
    "#Percent students passing math\n",
    "pass_total_m = 0\n",
    "for score in school_data_complete_rename[\"Math Score\"]:\n",
    "    if score >= 70:\n",
    "        pass_total_m += 1\n",
    "percent_pass_m = float((pass_total_m) / len(school_data_complete_rename[\"Math Score\"])) * 100\n",
    "\n",
    "#Percent students passing reading\n",
    "pass_total_r = 0\n",
    "for score in school_data_complete_rename[\"Reading Score\"]:\n",
    "    if score >= 70:\n",
    "        pass_total_r += 1\n",
    "percent_pass_r = float((pass_total_r) / len(school_data_complete_rename[\"Reading Score\"])) * 100\n",
    "\n",
    "#Put data in a dataframe\n",
    "data_summary_df = pd.DataFrame({\"Total Number Schools\":[total_schools], \"Total Number Students\":[total_students], \"Average Reading Score\":[average_reading_score], \"Reading Pass Rate\":[percent_pass_r], \"Average Math Score\":[average_math_score], \"Math Pass Rate\":[percent_pass_m], \"Overall Pass Rate\":[overall_pass_rate], \"Total Budget\":[total_budget]})\n",
    "\n",
    "#Formatting Data\n",
    "data_summary_df[\"Total Number Students\"] = data_summary_df[\"Total Number Students\"].map(\"{:,}\".format)\n",
    "data_summary_df[\"Average Reading Score\"] = data_summary_df[\"Average Reading Score\"].map(\"{:.2f}\".format)\n",
    "data_summary_df[\"Reading Pass Rate\"] = data_summary_df[\"Reading Pass Rate\"].map(\"{:.2f}%\".format)\n",
    "data_summary_df[\"Average Math Score\"] = data_summary_df[\"Average Math Score\"].map(\"{:.2f}\".format)\n",
    "data_summary_df[\"Math Pass Rate\"] = data_summary_df[\"Math Pass Rate\"].map(\"{:.2f}%\".format)\n",
    "data_summary_df[\"Overall Pass Rate\"] = data_summary_df[\"Overall Pass Rate\"].map(\"{:.2f}%\".format)\n",
    "data_summary_df[\"Total Budget\"] = data_summary_df[\"Total Budget\"].map(\"${:,.2f}\".format)\n",
    "data_summary_df.head()"
   ]
  },
  {
   "cell_type": "code",
   "execution_count": 80,
   "metadata": {},
   "outputs": [
    {
     "data": {
      "text/html": "<div>\n<style scoped>\n    .dataframe tbody tr th:only-of-type {\n        vertical-align: middle;\n    }\n\n    .dataframe tbody tr th {\n        vertical-align: top;\n    }\n\n    .dataframe thead th {\n        text-align: right;\n    }\n</style>\n<table border=\"1\" class=\"dataframe\">\n  <thead>\n    <tr style=\"text-align: right;\">\n      <th></th>\n      <th>Type</th>\n      <th>Number of Students</th>\n    </tr>\n    <tr>\n      <th>School</th>\n      <th></th>\n      <th></th>\n    </tr>\n  </thead>\n  <tbody>\n    <tr>\n      <th>Bailey High School</th>\n      <td>[District]</td>\n      <td>4,976</td>\n    </tr>\n    <tr>\n      <th>Cabrera High School</th>\n      <td>[Charter]</td>\n      <td>1,858</td>\n    </tr>\n    <tr>\n      <th>Figueroa High School</th>\n      <td>[District]</td>\n      <td>2,949</td>\n    </tr>\n    <tr>\n      <th>Ford High School</th>\n      <td>[District]</td>\n      <td>2,739</td>\n    </tr>\n    <tr>\n      <th>Griffin High School</th>\n      <td>[Charter]</td>\n      <td>1,468</td>\n    </tr>\n    <tr>\n      <th>Hernandez High School</th>\n      <td>[District]</td>\n      <td>4,635</td>\n    </tr>\n    <tr>\n      <th>Holden High School</th>\n      <td>[Charter]</td>\n      <td>427</td>\n    </tr>\n    <tr>\n      <th>Huang High School</th>\n      <td>[District]</td>\n      <td>2,917</td>\n    </tr>\n    <tr>\n      <th>Johnson High School</th>\n      <td>[District]</td>\n      <td>4,761</td>\n    </tr>\n    <tr>\n      <th>Pena High School</th>\n      <td>[Charter]</td>\n      <td>962</td>\n    </tr>\n    <tr>\n      <th>Rodriguez High School</th>\n      <td>[District]</td>\n      <td>3,999</td>\n    </tr>\n    <tr>\n      <th>Shelton High School</th>\n      <td>[Charter]</td>\n      <td>1,761</td>\n    </tr>\n    <tr>\n      <th>Thomas High School</th>\n      <td>[Charter]</td>\n      <td>1,635</td>\n    </tr>\n    <tr>\n      <th>Wilson High School</th>\n      <td>[Charter]</td>\n      <td>2,283</td>\n    </tr>\n    <tr>\n      <th>Wright High School</th>\n      <td>[Charter]</td>\n      <td>1,800</td>\n    </tr>\n  </tbody>\n</table>\n</div>",
      "text/plain": "                             Type Number of Students\nSchool                                              \nBailey High School     [District]              4,976\nCabrera High School     [Charter]              1,858\nFigueroa High School   [District]              2,949\nFord High School       [District]              2,739\nGriffin High School     [Charter]              1,468\nHernandez High School  [District]              4,635\nHolden High School      [Charter]                427\nHuang High School      [District]              2,917\nJohnson High School    [District]              4,761\nPena High School        [Charter]                962\nRodriguez High School  [District]              3,999\nShelton High School     [Charter]              1,761\nThomas High School      [Charter]              1,635\nWilson High School      [Charter]              2,283\nWright High School      [Charter]              1,800"
     },
     "execution_count": 80,
     "metadata": {},
     "output_type": "execute_result"
    }
   ],
   "source": [
    "#School Summary\n",
    "\n",
    "#Group data by school\n",
    "data_by_school = school_data_complete_rename.groupby(\"School\")\n",
    "data_by_school.count().head()\n",
    "\n",
    "#School type\n",
    "school_type = data_by_school[\"Type\"].unique()\n",
    "data_by_school_df = pd.DataFrame({\"Type\":school_type})\n",
    "data_by_school_df\n",
    "#Number of students\n",
    "data_by_school_df[\"Number of Students\"] = data_by_school[\"Student ID\"].count().map(\"{:,}\".format)\n",
    "data_by_school_df"
   ]
  },
  {
   "cell_type": "code",
   "execution_count": null,
   "metadata": {},
   "outputs": [],
   "source": []
  }
 ]
}