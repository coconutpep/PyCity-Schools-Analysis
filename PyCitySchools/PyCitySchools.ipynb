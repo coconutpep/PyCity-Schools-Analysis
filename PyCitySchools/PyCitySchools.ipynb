{
 "nbformat": 4,
 "nbformat_minor": 2,
 "metadata": {
  "language_info": {
   "name": "python",
   "codemirror_mode": {
    "name": "ipython",
    "version": 3
   },
   "version": "3.7.6-final"
  },
  "orig_nbformat": 2,
  "file_extension": ".py",
  "mimetype": "text/x-python",
  "name": "python",
  "npconvert_exporter": "python",
  "pygments_lexer": "ipython3",
  "version": 3,
  "kernelspec": {
   "name": "python37664bitpythondataconda55388edc13a34f868137f8315f2e1c1f",
   "display_name": "Python 3.7.6 64-bit ('PythonData': conda)"
  }
 },
 "cells": [
  {
   "cell_type": "code",
   "execution_count": 100,
   "metadata": {},
   "outputs": [
    {
     "data": {
      "text/plain": "array([1910635, 1884411, 1056600, 3022020,  917500, 1319574, 1081356,\n       3124928,  248087,  585858, 1049400, 2547363, 3094650, 1763916,\n       1043130], dtype=int64)"
     },
     "execution_count": 100,
     "metadata": {},
     "output_type": "execute_result"
    }
   ],
   "source": [
    "# Dependencies and Setup\n",
    "import pandas as pd\n",
    "\n",
    "school_data_to_load = \"Resources/schools_complete.csv\"\n",
    "student_data_to_load = \"Resources/students_complete.csv\"\n",
    "\n",
    "school_data = pd.read_csv(school_data_to_load)\n",
    "student_data = pd.read_csv(student_data_to_load)\n",
    "\n",
    "school_data_complete = pd.merge(student_data, school_data, how=\"left\", on=[\"school_name\", \"school_name\"])\n",
    "school_data_complete_rename = school_data_complete.rename(columns={\"student_name\":\"Student Name\", \"gender\":\"Gender\", \"grade\":\"Grade\", \"school_name\":\"School\", \"reading_score\":\"Reading Score\", \"math_score\":\"Math Score\", \"budget\":\"Budget\", \"type\":\"Type\"})\n",
    "\n",
    "school_data_complete_rename.head()"
   ]
  },
  {
   "cell_type": "code",
   "execution_count": 101,
   "metadata": {},
   "outputs": [
    {
     "data": {
      "text/html": "<div>\n<style scoped>\n    .dataframe tbody tr th:only-of-type {\n        vertical-align: middle;\n    }\n\n    .dataframe tbody tr th {\n        vertical-align: top;\n    }\n\n    .dataframe thead th {\n        text-align: right;\n    }\n</style>\n<table border=\"1\" class=\"dataframe\">\n  <thead>\n    <tr style=\"text-align: right;\">\n      <th></th>\n      <th>Total Number Schools</th>\n      <th>Total Number Students</th>\n      <th>Average Reading Score</th>\n      <th>Reading Pass Rate</th>\n      <th>Average Math Score</th>\n      <th>Math Pass Rate</th>\n      <th>Overall Pass Rate</th>\n      <th>Total Budget</th>\n    </tr>\n  </thead>\n  <tbody>\n    <tr>\n      <th>0</th>\n      <td>15</td>\n      <td>39,170</td>\n      <td>81.88</td>\n      <td>85.81%</td>\n      <td>78.99</td>\n      <td>74.98%</td>\n      <td>80.43%</td>\n      <td>$24,649,428.00</td>\n    </tr>\n  </tbody>\n</table>\n</div>",
      "text/plain": "   Total Number Schools Total Number Students Average Reading Score  \\\n0                    15                39,170                 81.88   \n\n  Reading Pass Rate Average Math Score Math Pass Rate Overall Pass Rate  \\\n0            85.81%              78.99         74.98%            80.43%   \n\n     Total Budget  \n0  $24,649,428.00  "
     },
     "execution_count": 101,
     "metadata": {},
     "output_type": "execute_result"
    }
   ],
   "source": [
    "#District Summary\n",
    "\n",
    "#Total Schools\n",
    "schools_unique = school_data_complete_rename[\"School\"].unique()\n",
    "total_schools = len(schools_unique)\n",
    "\n",
    "#Total Students\n",
    "total_students = len(school_data_complete_rename[\"Student ID\"])\n",
    "\n",
    "#Total Budget\n",
    "budgets = school_data_complete_rename[\"Budget\"].unique()\n",
    "total_budget = budgets.sum()\n",
    "\n",
    "#Average Math Score\n",
    "average_math_score = school_data_complete_rename[\"Math Score\"].mean()\n",
    "\n",
    "#Average Reading Score\n",
    "average_reading_score = school_data_complete_rename[\"Reading Score\"].mean()\n",
    "\n",
    "#Overall Pass Rate (Overall Average Score)\n",
    "overall_pass_rate = float((average_reading_score + average_math_score)) / 2\n",
    "\n",
    "#Percent students passing math\n",
    "pass_total_m = 0\n",
    "for score in school_data_complete_rename[\"Math Score\"]:\n",
    "    if score >= 70:\n",
    "        pass_total_m += 1\n",
    "percent_pass_m = float((pass_total_m) / len(school_data_complete_rename[\"Math Score\"])) * 100\n",
    "\n",
    "#Percent students passing reading\n",
    "pass_total_r = 0\n",
    "for score in school_data_complete_rename[\"Reading Score\"]:\n",
    "    if score >= 70:\n",
    "        pass_total_r += 1\n",
    "percent_pass_r = float((pass_total_r) / len(school_data_complete_rename[\"Reading Score\"])) * 100\n",
    "\n",
    "#Put data in a dataframe\n",
    "data_summary_df = pd.DataFrame({\"Total Number Schools\":[total_schools], \"Total Number Students\":[total_students], \"Average Reading Score\":[average_reading_score], \"Reading Pass Rate\":[percent_pass_r], \"Average Math Score\":[average_math_score], \"Math Pass Rate\":[percent_pass_m], \"Overall Pass Rate\":[overall_pass_rate], \"Total Budget\":[total_budget]})\n",
    "\n",
    "#Formatting Data\n",
    "data_summary_df[\"Total Number Students\"] = data_summary_df[\"Total Number Students\"].map(\"{:,}\".format)\n",
    "data_summary_df[\"Average Reading Score\"] = data_summary_df[\"Average Reading Score\"].map(\"{:.2f}\".format)\n",
    "data_summary_df[\"Reading Pass Rate\"] = data_summary_df[\"Reading Pass Rate\"].map(\"{:.2f}%\".format)\n",
    "data_summary_df[\"Average Math Score\"] = data_summary_df[\"Average Math Score\"].map(\"{:.2f}\".format)\n",
    "data_summary_df[\"Math Pass Rate\"] = data_summary_df[\"Math Pass Rate\"].map(\"{:.2f}%\".format)\n",
    "data_summary_df[\"Overall Pass Rate\"] = data_summary_df[\"Overall Pass Rate\"].map(\"{:.2f}%\".format)\n",
    "data_summary_df[\"Total Budget\"] = data_summary_df[\"Total Budget\"].map(\"${:,.2f}\".format)\n",
    "data_summary_df.head()"
   ]
  },
  {
   "cell_type": "code",
   "execution_count": 112,
   "metadata": {},
   "outputs": [
    {
     "data": {
      "text/html": "<div>\n<style scoped>\n    .dataframe tbody tr th:only-of-type {\n        vertical-align: middle;\n    }\n\n    .dataframe tbody tr th {\n        vertical-align: top;\n    }\n\n    .dataframe thead th {\n        text-align: right;\n    }\n</style>\n<table border=\"1\" class=\"dataframe\">\n  <thead>\n    <tr style=\"text-align: right;\">\n      <th></th>\n      <th>Type</th>\n      <th>Number of Students</th>\n      <th>Budget</th>\n      <th>Budget Per Student</th>\n    </tr>\n    <tr>\n      <th>School</th>\n      <th></th>\n      <th></th>\n      <th></th>\n      <th></th>\n    </tr>\n  </thead>\n  <tbody>\n    <tr>\n      <th>Bailey High School</th>\n      <td>District</td>\n      <td>4,976</td>\n      <td>$1,910,635.00</td>\n      <td>$383.97</td>\n    </tr>\n    <tr>\n      <th>Cabrera High School</th>\n      <td>Charter</td>\n      <td>1,858</td>\n      <td>$1,884,411.00</td>\n      <td>$1,014.21</td>\n    </tr>\n    <tr>\n      <th>Figueroa High School</th>\n      <td>District</td>\n      <td>2,949</td>\n      <td>$1,056,600.00</td>\n      <td>$358.29</td>\n    </tr>\n    <tr>\n      <th>Ford High School</th>\n      <td>District</td>\n      <td>2,739</td>\n      <td>$3,022,020.00</td>\n      <td>$1,103.33</td>\n    </tr>\n    <tr>\n      <th>Griffin High School</th>\n      <td>Charter</td>\n      <td>1,468</td>\n      <td>$917,500.00</td>\n      <td>$625.00</td>\n    </tr>\n    <tr>\n      <th>Hernandez High School</th>\n      <td>District</td>\n      <td>4,635</td>\n      <td>$1,319,574.00</td>\n      <td>$284.70</td>\n    </tr>\n    <tr>\n      <th>Holden High School</th>\n      <td>Charter</td>\n      <td>427</td>\n      <td>$1,081,356.00</td>\n      <td>$2,532.45</td>\n    </tr>\n    <tr>\n      <th>Huang High School</th>\n      <td>District</td>\n      <td>2,917</td>\n      <td>$3,124,928.00</td>\n      <td>$1,071.28</td>\n    </tr>\n    <tr>\n      <th>Johnson High School</th>\n      <td>District</td>\n      <td>4,761</td>\n      <td>$248,087.00</td>\n      <td>$52.11</td>\n    </tr>\n    <tr>\n      <th>Pena High School</th>\n      <td>Charter</td>\n      <td>962</td>\n      <td>$585,858.00</td>\n      <td>$609.00</td>\n    </tr>\n    <tr>\n      <th>Rodriguez High School</th>\n      <td>District</td>\n      <td>3,999</td>\n      <td>$1,049,400.00</td>\n      <td>$262.42</td>\n    </tr>\n    <tr>\n      <th>Shelton High School</th>\n      <td>Charter</td>\n      <td>1,761</td>\n      <td>$2,547,363.00</td>\n      <td>$1,446.54</td>\n    </tr>\n    <tr>\n      <th>Thomas High School</th>\n      <td>Charter</td>\n      <td>1,635</td>\n      <td>$3,094,650.00</td>\n      <td>$1,892.75</td>\n    </tr>\n    <tr>\n      <th>Wilson High School</th>\n      <td>Charter</td>\n      <td>2,283</td>\n      <td>$1,763,916.00</td>\n      <td>$772.63</td>\n    </tr>\n    <tr>\n      <th>Wright High School</th>\n      <td>Charter</td>\n      <td>1,800</td>\n      <td>$1,043,130.00</td>\n      <td>$579.52</td>\n    </tr>\n  </tbody>\n</table>\n</div>",
      "text/plain": "                           Type Number of Students         Budget  \\\nSchool                                                              \nBailey High School     District              4,976  $1,910,635.00   \nCabrera High School     Charter              1,858  $1,884,411.00   \nFigueroa High School   District              2,949  $1,056,600.00   \nFord High School       District              2,739  $3,022,020.00   \nGriffin High School     Charter              1,468    $917,500.00   \nHernandez High School  District              4,635  $1,319,574.00   \nHolden High School      Charter                427  $1,081,356.00   \nHuang High School      District              2,917  $3,124,928.00   \nJohnson High School    District              4,761    $248,087.00   \nPena High School        Charter                962    $585,858.00   \nRodriguez High School  District              3,999  $1,049,400.00   \nShelton High School     Charter              1,761  $2,547,363.00   \nThomas High School      Charter              1,635  $3,094,650.00   \nWilson High School      Charter              2,283  $1,763,916.00   \nWright High School      Charter              1,800  $1,043,130.00   \n\n                      Budget Per Student  \nSchool                                    \nBailey High School               $383.97  \nCabrera High School            $1,014.21  \nFigueroa High School             $358.29  \nFord High School               $1,103.33  \nGriffin High School              $625.00  \nHernandez High School            $284.70  \nHolden High School             $2,532.45  \nHuang High School              $1,071.28  \nJohnson High School               $52.11  \nPena High School                 $609.00  \nRodriguez High School            $262.42  \nShelton High School            $1,446.54  \nThomas High School             $1,892.75  \nWilson High School               $772.63  \nWright High School               $579.52  "
     },
     "execution_count": 112,
     "metadata": {},
     "output_type": "execute_result"
    }
   ],
   "source": [
    "#School Summary\n",
    "\n",
    "#Group data by school\n",
    "data_by_school = school_data_complete_rename.groupby(\"School\")\n",
    "\n",
    "#School type\n",
    "school_type = data_by_school[\"Type\"].unique()\n",
    "data_by_school_df = pd.DataFrame({\"Type\":school_type})\n",
    "data_by_school_df.loc[[\"Bailey High School\", \"Figueroa High School\", \"Ford High School\", \"Hernandez High School\", \"Huang High School\", \"Johnson High School\", \"Rodriguez High School\"], \"Type\"] = \"District\"\n",
    "#Number of students\n",
    "data_by_school_df[\"Number of Students\"] = data_by_school[\"Student ID\"].count().map(\"{:,}\".format)\n",
    "#School Summary\n",
    "\n",
    "#Group data by school\n",
    "data_by_school = school_data_complete_rename.groupby(\"School\")\n",
    "\n",
    "#School type\n",
    "school_type = data_by_school[\"Type\"].unique()\n",
    "data_by_school_df = pd.DataFrame({\"Type\":school_type})\n",
    "data_by_school_df.loc[[\"Bailey High School\", \"Figueroa High School\", \"Ford High School\", \"Hernandez High School\", \"Huang High School\", \"Johnson High School\", \"Rodriguez High School\"], \"Type\"] = \"District\"\n",
    "data_by_school_df.loc[[\"Cabrera High School\", \"Griffin High School\", \"Holden High School\", \"Pena High School\", \"Shelton High School\", \"Thomas High School\", \"Wilson High School\", \"Wright High School\"], \"Type\"] = \"Charter\"\n",
    "\n",
    "#Number of Students per School\n",
    "data_by_school_df[\"Number of Students\"] = data_by_school[\"Student ID\"].count()\n",
    "\n",
    "#School Budget\n",
    "data_by_school_df[\"Budget\"] = budgets\n",
    "data_by_school_df[\"Budget\"] = data_by_school_df[\"Budget\"]\n",
    "\n",
    "#Budget Per Student\n",
    "data_by_school_df[\"Budget Per Student\"] = (data_by_school_df[\"Budget\"] / data_by_school_df[\"Number of Students\"]).map(\"${:,.2f}\".format)\n",
    "\n",
    "#Formating Number of Students and Budget\n",
    "data_by_school_df[\"Number of Students\"] = data_by_school_df[\"Number of Students\"].map(\"{:,}\".format)\n",
    "data_by_school_df[\"Budget\"] = data_by_school_df[\"Budget\"].map(\"${:,.2f}\".format)\n",
    "data_by_school_df"
   ]
  },
  {
   "cell_type": "code",
   "execution_count": null,
   "metadata": {},
   "outputs": [],
   "source": []
  }
 ]
}