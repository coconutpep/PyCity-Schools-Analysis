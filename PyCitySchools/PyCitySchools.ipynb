{
 "nbformat": 4,
 "nbformat_minor": 2,
 "metadata": {
  "language_info": {
   "name": "python",
   "codemirror_mode": {
    "name": "ipython",
    "version": 3
   },
   "version": "3.7.6-final"
  },
  "orig_nbformat": 2,
  "file_extension": ".py",
  "mimetype": "text/x-python",
  "name": "python",
  "npconvert_exporter": "python",
  "pygments_lexer": "ipython3",
  "version": 3,
  "kernelspec": {
   "name": "python37664bitpythondataconda55388edc13a34f868137f8315f2e1c1f",
   "display_name": "Python 3.7.6 64-bit ('PythonData': conda)"
  }
 },
 "cells": [
  {
   "cell_type": "code",
   "execution_count": 21,
   "metadata": {},
   "outputs": [
    {
     "data": {
      "text/html": "<div>\n<style scoped>\n    .dataframe tbody tr th:only-of-type {\n        vertical-align: middle;\n    }\n\n    .dataframe tbody tr th {\n        vertical-align: top;\n    }\n\n    .dataframe thead th {\n        text-align: right;\n    }\n</style>\n<table border=\"1\" class=\"dataframe\">\n  <thead>\n    <tr style=\"text-align: right;\">\n      <th></th>\n      <th>Student ID</th>\n      <th>Student Name</th>\n      <th>Gender</th>\n      <th>Grade</th>\n      <th>School</th>\n      <th>Reading Score</th>\n      <th>Math Score</th>\n      <th>School ID</th>\n      <th>type</th>\n      <th>size</th>\n      <th>budget</th>\n    </tr>\n  </thead>\n  <tbody>\n    <tr>\n      <th>0</th>\n      <td>0</td>\n      <td>Paul Bradley</td>\n      <td>M</td>\n      <td>9th</td>\n      <td>Huang High School</td>\n      <td>66</td>\n      <td>79</td>\n      <td>0</td>\n      <td>District</td>\n      <td>2917</td>\n      <td>1910635</td>\n    </tr>\n    <tr>\n      <th>1</th>\n      <td>1</td>\n      <td>Victor Smith</td>\n      <td>M</td>\n      <td>12th</td>\n      <td>Huang High School</td>\n      <td>94</td>\n      <td>61</td>\n      <td>0</td>\n      <td>District</td>\n      <td>2917</td>\n      <td>1910635</td>\n    </tr>\n    <tr>\n      <th>2</th>\n      <td>2</td>\n      <td>Kevin Rodriguez</td>\n      <td>M</td>\n      <td>12th</td>\n      <td>Huang High School</td>\n      <td>90</td>\n      <td>60</td>\n      <td>0</td>\n      <td>District</td>\n      <td>2917</td>\n      <td>1910635</td>\n    </tr>\n    <tr>\n      <th>3</th>\n      <td>3</td>\n      <td>Dr. Richard Scott</td>\n      <td>M</td>\n      <td>12th</td>\n      <td>Huang High School</td>\n      <td>67</td>\n      <td>58</td>\n      <td>0</td>\n      <td>District</td>\n      <td>2917</td>\n      <td>1910635</td>\n    </tr>\n    <tr>\n      <th>4</th>\n      <td>4</td>\n      <td>Bonnie Ray</td>\n      <td>F</td>\n      <td>9th</td>\n      <td>Huang High School</td>\n      <td>97</td>\n      <td>84</td>\n      <td>0</td>\n      <td>District</td>\n      <td>2917</td>\n      <td>1910635</td>\n    </tr>\n  </tbody>\n</table>\n</div>",
      "text/plain": "   Student ID       Student Name Gender Grade             School  \\\n0           0       Paul Bradley      M   9th  Huang High School   \n1           1       Victor Smith      M  12th  Huang High School   \n2           2    Kevin Rodriguez      M  12th  Huang High School   \n3           3  Dr. Richard Scott      M  12th  Huang High School   \n4           4         Bonnie Ray      F   9th  Huang High School   \n\n   Reading Score  Math Score  School ID      type  size   budget  \n0             66          79          0  District  2917  1910635  \n1             94          61          0  District  2917  1910635  \n2             90          60          0  District  2917  1910635  \n3             67          58          0  District  2917  1910635  \n4             97          84          0  District  2917  1910635  "
     },
     "execution_count": 21,
     "metadata": {},
     "output_type": "execute_result"
    }
   ],
   "source": [
    "# Dependencies and Setup\n",
    "import pandas as pd\n",
    "\n",
    "school_data_to_load = \"Resources/schools_complete.csv\"\n",
    "student_data_to_load = \"Resources/students_complete.csv\"\n",
    "\n",
    "school_data = pd.read_csv(school_data_to_load)\n",
    "student_data = pd.read_csv(student_data_to_load)\n",
    "\n",
    "school_data_complete = pd.merge(student_data, school_data, how=\"left\", on=[\"school_name\", \"school_name\"])\n",
    "school_data_complete_rename = school_data_complete.rename(columns={\"student_name\":\"Student Name\", \"gender\":\"Gender\", \"grade\":\"Grade\", \"school_name\":\"School\", \"reading_score\":\"Reading Score\", \"math_score\":\"Math Score\"})\n",
    "school_data_complete_rename.head()"
   ]
  },
  {
   "cell_type": "code",
   "execution_count": 32,
   "metadata": {},
   "outputs": [
    {
     "data": {
      "text/html": "<div>\n<style scoped>\n    .dataframe tbody tr th:only-of-type {\n        vertical-align: middle;\n    }\n\n    .dataframe tbody tr th {\n        vertical-align: top;\n    }\n\n    .dataframe thead th {\n        text-align: right;\n    }\n</style>\n<table border=\"1\" class=\"dataframe\">\n  <thead>\n    <tr style=\"text-align: right;\">\n      <th></th>\n      <th>Total Number Schools</th>\n      <th>Total Number Students</th>\n      <th>Average Reading Score</th>\n      <th>Reading Pass Rate</th>\n      <th>Average Math Score</th>\n      <th>Math Pass Rate</th>\n      <th>Total Budget</th>\n    </tr>\n  </thead>\n  <tbody>\n    <tr>\n      <th>0</th>\n      <td>15</td>\n      <td>39170</td>\n      <td>81.87784</td>\n      <td>85.805463</td>\n      <td>78.985371</td>\n      <td>74.980853</td>\n      <td>82932329558</td>\n    </tr>\n  </tbody>\n</table>\n</div>",
      "text/plain": "   Total Number Schools  Total Number Students  Average Reading Score  \\\n0                    15                  39170               81.87784   \n\n   Reading Pass Rate  Average Math Score  Math Pass Rate  Total Budget  \n0          85.805463           78.985371       74.980853   82932329558  "
     },
     "execution_count": 32,
     "metadata": {},
     "output_type": "execute_result"
    }
   ],
   "source": [
    "#District Summary\n",
    "\n",
    "#Total Schools\n",
    "schools_unique = school_data_complete_rename[\"School\"].unique()\n",
    "total_schools = len(schools_unique)\n",
    "\n",
    "#Total Students\n",
    "total_students = len(school_data_complete_rename[\"Student ID\"])\n",
    "\n",
    "#Total Budget\n",
    "total_budget = sum(school_data_complete_rename[\"budget\"])\n",
    "\n",
    "#Average Math Score\n",
    "average_math_score = school_data_complete_rename[\"Math Score\"].mean()\n",
    "\n",
    "#Average Reading Score\n",
    "average_reading_score = school_data_complete_rename[\"Reading Score\"].mean()\n",
    "\n",
    "#Overall Pass Rate (Overall Average Score)\n",
    "overall_pass_rate = float((average_reading_score + average_math_score)) / 2\n",
    "\n",
    "#Percent students passing math\n",
    "pass_total_m = 0\n",
    "for score in school_data_complete_rename[\"Math Score\"]:\n",
    "    if score >= 70:\n",
    "        pass_total_m += 1\n",
    "percent_pass_m = float((pass_total_m) / len(school_data_complete_rename[\"Math Score\"])) * 100\n",
    "\n",
    "#Percent students passing reading\n",
    "pass_total_r = 0\n",
    "for score in school_data_complete_rename[\"Reading Score\"]:\n",
    "    if score >= 70:\n",
    "        pass_total_r += 1\n",
    "percent_pass_r = float((pass_total_r) / len(school_data_complete_rename[\"Reading Score\"])) * 100\n",
    "\n",
    "#Put data in a dataframe\n",
    "data_summary_df = pd.DataFrame({\"Total Number Schools\":[total_schools], \"Total Number Students\":[total_students], \"Average Reading Score\":[average_reading_score], \"Reading Pass Rate\":[percent_pass_r], \"Average Math Score\":[average_math_score], \"Math Pass Rate\":[percent_pass_m], \"Total Budget\":[total_budget]})\n",
    "data_summary_df.head()"
   ]
  },
  {
   "cell_type": "code",
   "execution_count": null,
   "metadata": {},
   "outputs": [],
   "source": []
  }
 ]
}